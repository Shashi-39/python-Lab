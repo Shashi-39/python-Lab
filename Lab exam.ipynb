{
 "cells": [
  {
   "cell_type": "markdown",
   "id": "e7612c84",
   "metadata": {},
   "source": [
    "CPBP LAB EXAMINATION"
   ]
  },
  {
   "cell_type": "code",
   "execution_count": 1,
   "id": "6ea89960",
   "metadata": {},
   "outputs": [
    {
     "name": "stdout",
     "output_type": "stream",
     "text": [
      " x (degrees)       cos(x)       tan(x)\n",
      "--------------------------------------------------\n",
      "           0     1.000000          0.0\n",
      "          15     0.965926 0.2679491924311227\n",
      "          30     0.866025 0.5773502691896257\n",
      "          45     0.707107 1.0000000000000002\n",
      "          60     0.500000 1.7320508075688767\n",
      "          75     0.258819 3.7320508075688803\n",
      "          90     0.000000    undefined\n",
      "         105    -0.258819 -3.7320508075688803\n",
      "         120    -0.500000 -1.7320508075688779\n",
      "         135    -0.707107 -1.0000000000000002\n",
      "         150    -0.866025 -0.5773502691896257\n",
      "         165    -0.965926 -0.267949192431123\n",
      "         180    -1.000000 -1.2246467991473532e-16\n",
      "         195    -0.965926 0.26794919243112225\n",
      "         210    -0.866025 0.577350269189626\n",
      "         225    -0.707107 0.9999999999999999\n",
      "         240    -0.500000 1.7320508075688759\n",
      "         255    -0.258819 3.7320508075688803\n",
      "         270     0.000000    undefined\n",
      "         285     0.258819 -3.732050807568873\n",
      "         300     0.500000 -1.7320508075688767\n",
      "         315     0.707107 -1.0000000000000004\n",
      "         330     0.866025 -0.5773502691896265\n",
      "         345     0.965926 -0.26794919243112264\n",
      "         360     1.000000 -2.4492935982947064e-16\n"
     ]
    }
   ],
   "source": [
    "import math\n",
    "\n",
    "def calculate_cos_sin_using_pythagorean(x):\n",
    "    x_rad = x * math.pi / 180  # Convert degrees to radians\n",
    "    sin_value = math.sin(x_rad)\n",
    "    cos_value = math.sqrt(1 - sin_value**2)\n",
    "    if x > 90 and x < 270:\n",
    "        cos_value = -cos_value  # Adjust sign based on the quadrant\n",
    "    return cos_value, sin_value\n",
    "\n",
    "def calculate_trig_values():\n",
    "    print(f\"{'x (degrees)':>12} {'cos(x)':>12} {'tan(x)':>12}\")\n",
    "    print('-' * 50)\n",
    "    for x in range(0, 361, 15):\n",
    "        cos_value, sin_value = calculate_cos_sin_using_pythagorean(x)\n",
    "        if cos_value == 0:\n",
    "            tan_value = 'undefined'\n",
    "        else:\n",
    "            tan_value = sin_value / cos_value\n",
    "        print(f\"{x:>12} {cos_value:>12.6f} {tan_value:>12}\")\n",
    "\n",
    "calculate_trig_values()\n"
   ]
  },
  {
   "cell_type": "code",
   "execution_count": 2,
   "id": "ee20ccc0",
   "metadata": {},
   "outputs": [
    {
     "name": "stdout",
     "output_type": "stream",
     "text": [
      "Movies data loaded successfully.\n",
      "\n",
      "Enter a keyword to search for movies (or type 'exit' to quit): matrix\n",
      "Movies matching the keyword 'matrix':\n",
      "\n",
      "Title: The Matrix\n",
      "Genre: Science Fiction\n",
      "Year: 1999\n",
      "Description: A computer hacker learns about the true nature of his reality and his role in the war against its controllers.\n",
      "\n",
      "\n",
      "Enter a keyword to search for movies (or type 'exit' to quit): forest gump\n",
      "No movies found matching the keyword 'forest gump'.\n",
      "\n",
      "Enter a keyword to search for movies (or type 'exit' to quit): exit\n"
     ]
    }
   ],
   "source": [
    " class MoviesRecommender:\n",
    "    def __init__(self):\n",
    "        self.movies = []  # List to store movies data\n",
    "\n",
    "    def load_movies(self, file_name):\n",
    "        \"\"\"Reads the movies data file and loads it into the movies list.\"\"\"\n",
    "        try:\n",
    "            with open(file_name, 'r') as file:\n",
    "                for line in file:\n",
    "                    title, genre, year, description = line.strip().split('|')\n",
    "                    self.movies.append({\n",
    "                        'title': title,\n",
    "                        'genre': genre,\n",
    "                        'year': year,\n",
    "                        'description': description\n",
    "                    })\n",
    "            print(\"Movies data loaded successfully.\")\n",
    "        except FileNotFoundError:\n",
    "            print(f\"Error: The file '{file_name}' was not found.\")\n",
    "        except Exception as e:\n",
    "            print(f\"An error occurred while loading the file: {e}\")\n",
    "\n",
    "    def search_movies(self, keyword):\n",
    "        \"\"\"Search for movies matching the keyword in title, genre, or description.\"\"\"\n",
    "        keyword = keyword.lower()\n",
    "        matching_movies = [                                          #list comprehension\n",
    "            movie for movie in self.movies\n",
    "            if keyword in movie['title'].lower() or\n",
    "               keyword in movie['genre'].lower() or\n",
    "               keyword in movie['description'].lower()\n",
    "        ]\n",
    "\n",
    "        if matching_movies:\n",
    "            print(f\"Movies matching the keyword '{keyword}':\\n\")\n",
    "            for movie in matching_movies:\n",
    "                print(f\"Title: {movie['title']}\\nGenre: {movie['genre']}\\nYear: {movie['year']}\\nDescription: {movie['description']}\\n\")\n",
    "        else:\n",
    "            print(f\"No movies found matching the keyword '{keyword}'.\")\n",
    "\n",
    "\n",
    "if __name__ == \"__main__\":\n",
    "    recommender = MoviesRecommender()\n",
    "\n",
    "    \n",
    "    file_name = \"file1.txt\"  # Make sure this file exists with appropriate data.\n",
    "   \n",
    "    recommender.load_movies(file_name)\n",
    "\n",
    "    # search for movies\n",
    "    while True:\n",
    "        keyword = input(\"\\nEnter a keyword to search for movies (or type 'exit' to quit): \")\n",
    "        if keyword.lower() == 'exit':\n",
    "            break\n",
    "        recommender.search_movies(keyword)\n",
    "\n",
    "\n",
    "\n"
   ]
  },
  {
   "cell_type": "code",
   "execution_count": 3,
   "id": "db14469f",
   "metadata": {},
   "outputs": [
    {
     "name": "stdout",
     "output_type": "stream",
     "text": [
      "True\n",
      "True\n",
      "False\n",
      "True\n"
     ]
    }
   ],
   "source": [
    "#Q3\n",
    "def is_power_of_2(n):\n",
    "    return n > 0 and (n & (n - 1)) == 0\n",
    "\n",
    "\n",
    "print(is_power_of_2(1))   # True (2^0)\n",
    "print(is_power_of_2(2))   # True (2^1)\n",
    "print(is_power_of_2(3))   # False\n",
    "print(is_power_of_2(4))   # True (2^2)\n",
    "\n"
   ]
  },
  {
   "cell_type": "code",
   "execution_count": null,
   "id": "7ce46c6b",
   "metadata": {},
   "outputs": [],
   "source": [
    " "
   ]
  }
 ],
 "metadata": {
  "kernelspec": {
   "display_name": "Python 3 (ipykernel)",
   "language": "python",
   "name": "python3"
  },
  "language_info": {
   "codemirror_mode": {
    "name": "ipython",
    "version": 3
   },
   "file_extension": ".py",
   "mimetype": "text/x-python",
   "name": "python",
   "nbconvert_exporter": "python",
   "pygments_lexer": "ipython3",
   "version": "3.9.7"
  }
 },
 "nbformat": 4,
 "nbformat_minor": 5
}
