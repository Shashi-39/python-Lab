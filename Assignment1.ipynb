{
 "cells": [
  {
   "cell_type": "code",
   "execution_count": null,
   "id": "c0ce18ef",
   "metadata": {},
   "outputs": [],
   "source": [
    "# Calculate the Distance Between Two Points\n",
    "\n",
    "\n",
    "import math\n",
    "\n",
    "def distance(x1, y1, x2, y2):\n",
    "    return math.sqrt((x2 - x1)**2 + (y2 - y1)**2)\n",
    "\n",
    "# Example usage\n",
    "x1, y1 = 0, 0\n",
    "x2, y2 = 3, 4\n",
    "print(\"Distance:\", distance(x1, y1, x2, y2))"
   ]
  },
  {
   "cell_type": "code",
   "execution_count": null,
   "id": "39cecbe7",
   "metadata": {},
   "outputs": [],
   "source": [
    "import math\n",
    "\n",
    "def area_of_triangle(a, b, c):\n",
    "    s = (a + b + c) / 2\n",
    "    return math.sqrt(s * (s - a) * (s - b) * (s - c))\n",
    "\n",
    "# Example usage\n",
    "a, b, c = 3, 4, 5\n",
    "print(\"Area of Triangle:\", area_of_triangle(a, b, c))\n"
   ]
  },
  {
   "cell_type": "code",
   "execution_count": null,
   "id": "1ac1ecd8",
   "metadata": {},
   "outputs": [],
   "source": [
    "def calculate_bill(quantity, value, discount, tax):\n",
    "    subtotal = quantity * value\n",
    "    discount_amount = subtotal * (discount / 100)\n",
    "    tax_amount = (subtotal - discount_amount) * (tax / 100)\n",
    "    total = subtotal - discount_amount + tax_amount\n",
    "    return total\n",
    "\n",
    "# Example usage\n",
    "quantity = 10\n",
    "value = 50\n",
    "discount = 10  # in percentage\n",
    "tax = 5  # in percentage\n",
    "print(\"Bill Amount:\", calculate_bill(quantity, value, discount, tax))\n"
   ]
  },
  {
   "cell_type": "code",
   "execution_count": null,
   "id": "b16803a1",
   "metadata": {},
   "outputs": [],
   "source": [
    "s = \"1234\"\n",
    "n = 5678\n",
    "result = int(s + str(n))\n",
    "print(\"Final Integer Value:\", result)\n"
   ]
  },
  {
   "cell_type": "code",
   "execution_count": null,
   "id": "bd30427b",
   "metadata": {},
   "outputs": [],
   "source": [
    "a = 7\n",
    "b = 3\n",
    "a, b = b, a\n",
    "print(\"a:\", a)\n",
    "print(\"b:\", b)\n"
   ]
  },
  {
   "cell_type": "code",
   "execution_count": null,
   "id": "f03dd325",
   "metadata": {},
   "outputs": [],
   "source": [
    "numbers = [10, 20, 30, 40, 50]\n",
    "average = sum(numbers) / len(numbers)\n",
    "print(\"Average:\", average)\n"
   ]
  },
  {
   "cell_type": "code",
   "execution_count": null,
   "id": "545ce228",
   "metadata": {},
   "outputs": [],
   "source": [
    "def calculator():\n",
    "    operation = input(\"Enter operation (+, -, *, /): \")\n",
    "    num1 = float(input(\"Enter first number: \"))\n",
    "    num2 = float(input(\"Enter second number: \"))\n",
    "\n",
    "    if operation == '+':\n",
    "        print(\"Result:\", num1 + num2)\n",
    "    elif operation == '-':\n",
    "        print(\"Result:\", num1 - num2)\n",
    "    elif operation == '*':\n",
    "        print(\"Result:\", num1 * num2)\n",
    "    elif operation == '/':\n",
    "        if num2 != 0:\n",
    "            print(\"Result:\", num1 / num2)\n",
    "        else:\n",
    "            print(\"Error: Division by zero\")\n",
    "    else:\n",
    "        print(\"Invalid operation\")\n",
    "\n",
    "# Example usage\n",
    "calculator()\n"
   ]
  }
 ],
 "metadata": {
  "kernelspec": {
   "display_name": "Python 3 (ipykernel)",
   "language": "python",
   "name": "python3"
  },
  "language_info": {
   "codemirror_mode": {
    "name": "ipython",
    "version": 3
   },
   "file_extension": ".py",
   "mimetype": "text/x-python",
   "name": "python",
   "nbconvert_exporter": "python",
   "pygments_lexer": "ipython3",
   "version": "3.9.7"
  }
 },
 "nbformat": 4,
 "nbformat_minor": 5
}
